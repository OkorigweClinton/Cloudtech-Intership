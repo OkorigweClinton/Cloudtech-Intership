{
 "cells": [
  {
   "cell_type": "markdown",
   "id": "55b19d6d-2d4f-464d-a494-72bb8863fb21",
   "metadata": {},
   "source": [
    "1. Import Necessary Libraries"
   ]
  },
  {
   "cell_type": "code",
   "execution_count": 2,
   "id": "cd6d0d01-2305-42bf-aac5-0a962514b361",
   "metadata": {},
   "outputs": [],
   "source": [
    "import pandas as pd\n",
    "import numpy as np\n",
    "import matplotlib as plt"
   ]
  },
  {
   "cell_type": "markdown",
   "id": "c42f34ab-874b-4b4e-b86a-42567c83f727",
   "metadata": {},
   "source": [
    "2. Import CSV file"
   ]
  },
  {
   "cell_type": "code",
   "execution_count": 3,
   "id": "33439b71-aebb-49c3-abd9-a8200694b171",
   "metadata": {},
   "outputs": [],
   "source": [
    "data = pd.read_csv(\"airlines_flights_data.csv\")"
   ]
  },
  {
   "cell_type": "code",
   "execution_count": 4,
   "id": "d0ac8168-8fac-4868-972f-4c47e3b9169a",
   "metadata": {},
   "outputs": [
    {
     "name": "stdout",
     "output_type": "stream",
     "text": [
      "   index   airline   flight source_city departure_time stops   arrival_time  \\\n",
      "0      0  SpiceJet  SG-8709       Delhi        Evening  zero          Night   \n",
      "1      1  SpiceJet  SG-8157       Delhi  Early_Morning  zero        Morning   \n",
      "2      2   AirAsia   I5-764       Delhi  Early_Morning  zero  Early_Morning   \n",
      "3      3   Vistara   UK-995       Delhi        Morning  zero      Afternoon   \n",
      "4      4   Vistara   UK-963       Delhi        Morning  zero        Morning   \n",
      "\n",
      "  destination_city    class  duration  days_left  price  \n",
      "0           Mumbai  Economy      2.17          1   5953  \n",
      "1           Mumbai  Economy      2.33          1   5953  \n",
      "2           Mumbai  Economy      2.17          1   5956  \n",
      "3           Mumbai  Economy      2.25          1   5955  \n",
      "4           Mumbai  Economy      2.33          1   5955  \n"
     ]
    }
   ],
   "source": [
    "print(data.head(5))"
   ]
  },
  {
   "cell_type": "code",
   "execution_count": 5,
   "id": "6d1bdf0a-69a6-4a63-99b2-5edd97ff1eca",
   "metadata": {},
   "outputs": [
    {
     "name": "stdout",
     "output_type": "stream",
     "text": [
      "Rows: 300153\n"
     ]
    }
   ],
   "source": [
    "print(\"Rows:\",len(data))"
   ]
  },
  {
   "cell_type": "markdown",
   "id": "490eef39-5654-44f2-8fe2-12cfdc1fb466",
   "metadata": {},
   "source": [
    "The data set contains 300153 rows and 11 columns, 12 if you include the \"index\" column"
   ]
  },
  {
   "cell_type": "markdown",
   "id": "b513eab9-bca9-4f56-b957-ef4c7b5bd60c",
   "metadata": {},
   "source": [
    "3. Data Understanding and Cleaning"
   ]
  },
  {
   "cell_type": "code",
   "execution_count": 6,
   "id": "41db346c-8f7e-465b-b653-282fbcb85f21",
   "metadata": {},
   "outputs": [],
   "source": [
    "data.columns=[c.strip().replace(\" \",\"_\") for c in data.columns] #Standardize column names"
   ]
  },
  {
   "cell_type": "code",
   "execution_count": 7,
   "id": "c456cc03-a828-4901-bd98-4bd3c3d200cd",
   "metadata": {},
   "outputs": [],
   "source": [
    "#Strip spaces in string columms\n",
    "for col in data.select_dtypes(include=[\"object\"]).columns:\n",
    "                                       data[col]= data[col].astype(str).str.strip()   \n",
    "                                       "
   ]
  },
  {
   "cell_type": "code",
   "execution_count": 8,
   "id": "075e81ce-52f7-42dc-93fd-be5456e64305",
   "metadata": {},
   "outputs": [
    {
     "name": "stdout",
     "output_type": "stream",
     "text": [
      "INFO\n",
      "<class 'pandas.core.frame.DataFrame'>\n",
      "RangeIndex: 300153 entries, 0 to 300152\n",
      "Data columns (total 12 columns):\n",
      " #   Column            Non-Null Count   Dtype  \n",
      "---  ------            --------------   -----  \n",
      " 0   index             300153 non-null  int64  \n",
      " 1   airline           300153 non-null  object \n",
      " 2   flight            300153 non-null  object \n",
      " 3   source_city       300153 non-null  object \n",
      " 4   departure_time    300153 non-null  object \n",
      " 5   stops             300153 non-null  object \n",
      " 6   arrival_time      300153 non-null  object \n",
      " 7   destination_city  300153 non-null  object \n",
      " 8   class             300153 non-null  object \n",
      " 9   duration          300153 non-null  float64\n",
      " 10  days_left         300153 non-null  int64  \n",
      " 11  price             300153 non-null  int64  \n",
      "dtypes: float64(1), int64(3), object(8)\n",
      "memory usage: 27.5+ MB\n",
      "None\n"
     ]
    }
   ],
   "source": [
    "#Basic info\n",
    "print(\"INFO\")\n",
    "print(data.info())"
   ]
  },
  {
   "cell_type": "code",
   "execution_count": 9,
   "id": "2a112825-3b7d-4a61-bc12-e0241369727c",
   "metadata": {},
   "outputs": [
    {
     "name": "stdout",
     "output_type": "stream",
     "text": [
      "DESCRIBE (numeric)\n"
     ]
    },
    {
     "data": {
      "text/html": [
       "<div>\n",
       "<style scoped>\n",
       "    .dataframe tbody tr th:only-of-type {\n",
       "        vertical-align: middle;\n",
       "    }\n",
       "\n",
       "    .dataframe tbody tr th {\n",
       "        vertical-align: top;\n",
       "    }\n",
       "\n",
       "    .dataframe thead th {\n",
       "        text-align: right;\n",
       "    }\n",
       "</style>\n",
       "<table border=\"1\" class=\"dataframe\">\n",
       "  <thead>\n",
       "    <tr style=\"text-align: right;\">\n",
       "      <th></th>\n",
       "      <th>index</th>\n",
       "      <th>duration</th>\n",
       "      <th>days_left</th>\n",
       "      <th>price</th>\n",
       "    </tr>\n",
       "  </thead>\n",
       "  <tbody>\n",
       "    <tr>\n",
       "      <th>count</th>\n",
       "      <td>300153.000000</td>\n",
       "      <td>300153.000000</td>\n",
       "      <td>300153.000000</td>\n",
       "      <td>300153.000000</td>\n",
       "    </tr>\n",
       "    <tr>\n",
       "      <th>mean</th>\n",
       "      <td>150076.000000</td>\n",
       "      <td>12.221021</td>\n",
       "      <td>26.004751</td>\n",
       "      <td>20889.660523</td>\n",
       "    </tr>\n",
       "    <tr>\n",
       "      <th>std</th>\n",
       "      <td>86646.852011</td>\n",
       "      <td>7.191997</td>\n",
       "      <td>13.561004</td>\n",
       "      <td>22697.767366</td>\n",
       "    </tr>\n",
       "    <tr>\n",
       "      <th>min</th>\n",
       "      <td>0.000000</td>\n",
       "      <td>0.830000</td>\n",
       "      <td>1.000000</td>\n",
       "      <td>1105.000000</td>\n",
       "    </tr>\n",
       "    <tr>\n",
       "      <th>25%</th>\n",
       "      <td>75038.000000</td>\n",
       "      <td>6.830000</td>\n",
       "      <td>15.000000</td>\n",
       "      <td>4783.000000</td>\n",
       "    </tr>\n",
       "    <tr>\n",
       "      <th>50%</th>\n",
       "      <td>150076.000000</td>\n",
       "      <td>11.250000</td>\n",
       "      <td>26.000000</td>\n",
       "      <td>7425.000000</td>\n",
       "    </tr>\n",
       "    <tr>\n",
       "      <th>75%</th>\n",
       "      <td>225114.000000</td>\n",
       "      <td>16.170000</td>\n",
       "      <td>38.000000</td>\n",
       "      <td>42521.000000</td>\n",
       "    </tr>\n",
       "    <tr>\n",
       "      <th>max</th>\n",
       "      <td>300152.000000</td>\n",
       "      <td>49.830000</td>\n",
       "      <td>49.000000</td>\n",
       "      <td>123071.000000</td>\n",
       "    </tr>\n",
       "  </tbody>\n",
       "</table>\n",
       "</div>"
      ],
      "text/plain": [
       "               index       duration      days_left          price\n",
       "count  300153.000000  300153.000000  300153.000000  300153.000000\n",
       "mean   150076.000000      12.221021      26.004751   20889.660523\n",
       "std     86646.852011       7.191997      13.561004   22697.767366\n",
       "min         0.000000       0.830000       1.000000    1105.000000\n",
       "25%     75038.000000       6.830000      15.000000    4783.000000\n",
       "50%    150076.000000      11.250000      26.000000    7425.000000\n",
       "75%    225114.000000      16.170000      38.000000   42521.000000\n",
       "max    300152.000000      49.830000      49.000000  123071.000000"
      ]
     },
     "metadata": {},
     "output_type": "display_data"
    }
   ],
   "source": [
    "print(\"DESCRIBE (numeric)\")\n",
    "display(data.describe())"
   ]
  },
  {
   "cell_type": "markdown",
   "id": "0bf2061b-d341-498c-9953-e9637cb27eef",
   "metadata": {},
   "source": [
    "The dataset contains 300,153 records with four numeric variables: index, duration, days_left, and price.\n",
    "\n",
    "Duration: Flight durations range from 0.83 to 49.83 hours (mean ≈ 12.22 hrs), with half of the flights lasting 11.25 hrs or less.\n",
    "\n",
    "Days_left: The days until departure span 1 to 49 days (mean ≈ 26 days), with a median of 26 days, indicating a fairly balanced distribution around the center.\n",
    "\n",
    "Price: Ticket prices range widely from ₦1,105 to ₦123,071, with a median of ₦7,425 but a much higher mean (₦20,889), suggesting price outliers or skewness toward higher values.\n",
    "\n",
    "Index: Simply represents the record ID (0–300,152) with no analytical meaning."
   ]
  },
  {
   "cell_type": "code",
   "execution_count": 10,
   "id": "dda621f2-c895-481e-bb98-eda267a77211",
   "metadata": {},
   "outputs": [
    {
     "name": "stdout",
     "output_type": "stream",
     "text": [
      "DESCRIBE(categorical sample)\n"
     ]
    },
    {
     "data": {
      "text/html": [
       "<div>\n",
       "<style scoped>\n",
       "    .dataframe tbody tr th:only-of-type {\n",
       "        vertical-align: middle;\n",
       "    }\n",
       "\n",
       "    .dataframe tbody tr th {\n",
       "        vertical-align: top;\n",
       "    }\n",
       "\n",
       "    .dataframe thead th {\n",
       "        text-align: right;\n",
       "    }\n",
       "</style>\n",
       "<table border=\"1\" class=\"dataframe\">\n",
       "  <thead>\n",
       "    <tr style=\"text-align: right;\">\n",
       "      <th></th>\n",
       "      <th>airline</th>\n",
       "      <th>flight</th>\n",
       "      <th>source_city</th>\n",
       "      <th>departure_time</th>\n",
       "      <th>stops</th>\n",
       "      <th>arrival_time</th>\n",
       "      <th>destination_city</th>\n",
       "      <th>class</th>\n",
       "    </tr>\n",
       "  </thead>\n",
       "  <tbody>\n",
       "    <tr>\n",
       "      <th>count</th>\n",
       "      <td>300153</td>\n",
       "      <td>300153</td>\n",
       "      <td>300153</td>\n",
       "      <td>300153</td>\n",
       "      <td>300153</td>\n",
       "      <td>300153</td>\n",
       "      <td>300153</td>\n",
       "      <td>300153</td>\n",
       "    </tr>\n",
       "    <tr>\n",
       "      <th>unique</th>\n",
       "      <td>6</td>\n",
       "      <td>1561</td>\n",
       "      <td>6</td>\n",
       "      <td>6</td>\n",
       "      <td>3</td>\n",
       "      <td>6</td>\n",
       "      <td>6</td>\n",
       "      <td>2</td>\n",
       "    </tr>\n",
       "    <tr>\n",
       "      <th>top</th>\n",
       "      <td>Vistara</td>\n",
       "      <td>UK-706</td>\n",
       "      <td>Delhi</td>\n",
       "      <td>Morning</td>\n",
       "      <td>one</td>\n",
       "      <td>Night</td>\n",
       "      <td>Mumbai</td>\n",
       "      <td>Economy</td>\n",
       "    </tr>\n",
       "    <tr>\n",
       "      <th>freq</th>\n",
       "      <td>127859</td>\n",
       "      <td>3235</td>\n",
       "      <td>61343</td>\n",
       "      <td>71146</td>\n",
       "      <td>250863</td>\n",
       "      <td>91538</td>\n",
       "      <td>59097</td>\n",
       "      <td>206666</td>\n",
       "    </tr>\n",
       "  </tbody>\n",
       "</table>\n",
       "</div>"
      ],
      "text/plain": [
       "        airline  flight source_city departure_time   stops arrival_time  \\\n",
       "count    300153  300153      300153         300153  300153       300153   \n",
       "unique        6    1561           6              6       3            6   \n",
       "top     Vistara  UK-706       Delhi        Morning     one        Night   \n",
       "freq     127859    3235       61343          71146  250863        91538   \n",
       "\n",
       "       destination_city    class  \n",
       "count            300153   300153  \n",
       "unique                6        2  \n",
       "top              Mumbai  Economy  \n",
       "freq              59097   206666  "
      ]
     },
     "metadata": {},
     "output_type": "display_data"
    }
   ],
   "source": [
    "print(\"DESCRIBE(categorical sample)\")\n",
    "display(data.describe(include=\"object\"))"
   ]
  },
  {
   "cell_type": "markdown",
   "id": "c7473df6-1d71-4277-b945-bb47adcc2776",
   "metadata": {},
   "source": [
    "The dataset has 300,153 records with 8 categorical variables.\n",
    "\n",
    "Airline: 6 unique airlines, with Vistara being the most frequent (≈ 127,859 flights).\n",
    "\n",
    "Flight: 1,561 unique flight codes; the most common flight is UK-706 (≈ 3,235 occurrences).\n",
    "\n",
    "Source_city & Destination_city: 6 unique cities each; Delhi is the most common source, Mumbai the most common destination.\n",
    "\n",
    "Departure_time & Arrival_time: 6 unique time slots; Morning is the most common departure window, while most arrivals occur at Night.\n",
    "\n",
    "Stops: 3 categories; one-stop flights dominate.\n",
    "\n",
    "Class: 2 unique classes; Economy is the majority."
   ]
  },
  {
   "cell_type": "code",
   "execution_count": 11,
   "id": "68b6cde0-ad38-4ff8-aeb4-926da51506e5",
   "metadata": {},
   "outputs": [
    {
     "name": "stdout",
     "output_type": "stream",
     "text": [
      "MISSING VALUES\n"
     ]
    },
    {
     "data": {
      "text/html": [
       "<div>\n",
       "<style scoped>\n",
       "    .dataframe tbody tr th:only-of-type {\n",
       "        vertical-align: middle;\n",
       "    }\n",
       "\n",
       "    .dataframe tbody tr th {\n",
       "        vertical-align: top;\n",
       "    }\n",
       "\n",
       "    .dataframe thead th {\n",
       "        text-align: right;\n",
       "    }\n",
       "</style>\n",
       "<table border=\"1\" class=\"dataframe\">\n",
       "  <thead>\n",
       "    <tr style=\"text-align: right;\">\n",
       "      <th></th>\n",
       "      <th>missing</th>\n",
       "    </tr>\n",
       "  </thead>\n",
       "  <tbody>\n",
       "    <tr>\n",
       "      <th>index</th>\n",
       "      <td>0</td>\n",
       "    </tr>\n",
       "    <tr>\n",
       "      <th>airline</th>\n",
       "      <td>0</td>\n",
       "    </tr>\n",
       "    <tr>\n",
       "      <th>flight</th>\n",
       "      <td>0</td>\n",
       "    </tr>\n",
       "    <tr>\n",
       "      <th>source_city</th>\n",
       "      <td>0</td>\n",
       "    </tr>\n",
       "    <tr>\n",
       "      <th>departure_time</th>\n",
       "      <td>0</td>\n",
       "    </tr>\n",
       "    <tr>\n",
       "      <th>stops</th>\n",
       "      <td>0</td>\n",
       "    </tr>\n",
       "    <tr>\n",
       "      <th>arrival_time</th>\n",
       "      <td>0</td>\n",
       "    </tr>\n",
       "    <tr>\n",
       "      <th>destination_city</th>\n",
       "      <td>0</td>\n",
       "    </tr>\n",
       "    <tr>\n",
       "      <th>class</th>\n",
       "      <td>0</td>\n",
       "    </tr>\n",
       "    <tr>\n",
       "      <th>duration</th>\n",
       "      <td>0</td>\n",
       "    </tr>\n",
       "    <tr>\n",
       "      <th>days_left</th>\n",
       "      <td>0</td>\n",
       "    </tr>\n",
       "    <tr>\n",
       "      <th>price</th>\n",
       "      <td>0</td>\n",
       "    </tr>\n",
       "  </tbody>\n",
       "</table>\n",
       "</div>"
      ],
      "text/plain": [
       "                  missing\n",
       "index                   0\n",
       "airline                 0\n",
       "flight                  0\n",
       "source_city             0\n",
       "departure_time          0\n",
       "stops                   0\n",
       "arrival_time            0\n",
       "destination_city        0\n",
       "class                   0\n",
       "duration                0\n",
       "days_left               0\n",
       "price                   0"
      ]
     },
     "metadata": {},
     "output_type": "display_data"
    }
   ],
   "source": [
    "# Missing and Duplicates\n",
    "print(\"MISSING VALUES\")\n",
    "display(data.isna().sum().to_frame(\"missing\").sort_values(\"missing\", ascending=False))"
   ]
  },
  {
   "cell_type": "markdown",
   "id": "f9aa90d9-555f-47da-90b5-e05cc2e85892",
   "metadata": {},
   "source": [
    "The dataset has no missing values across all 12 variables (both categorical and numeric). This means:\n",
    "\n",
    "Data completeness is 100% for every column.\n",
    "\n",
    "No imputation, deletion, or missing-data handling steps are required before analysis.\n",
    "\n",
    "Subsequent preprocessing can focus on outlier detection, encoding categorical variables, and feature engineering instead."
   ]
  },
  {
   "cell_type": "code",
   "execution_count": 12,
   "id": "ca1a2b72-1287-4898-babd-e1f977c8b808",
   "metadata": {},
   "outputs": [
    {
     "name": "stdout",
     "output_type": "stream",
     "text": [
      "Duplicates:0\n"
     ]
    }
   ],
   "source": [
    "dup_count = data.duplicated().sum()# counting the duplicates to confirm\n",
    "print(f\"Duplicates:{dup_count}\")"
   ]
  },
  {
   "cell_type": "code",
   "execution_count": 13,
   "id": "9b488361-2f50-44fd-9abb-444b0a8606b4",
   "metadata": {},
   "outputs": [],
   "source": [
    "# Normalize 'class' column\n",
    "if \"class\" in data.columns:\n",
    "    # Convert to lowercase for consistency\n",
    "    data[\"class\"] = data[\"class\"].str.lower().str.strip()\n",
    "    \n",
    "    # Dictionary of possible typos for each class\n",
    "    corrections = {\n",
    "        \"business\": [\"busines\", \"bussiness\", \"biz\", \"businesz\"],\n",
    "        \"economy\": [\"econo\", \"ecnomy\", \"economi\", \"econoimy\", \"econ\"]\n",
    "    }\n",
    "    \n",
    "    # Reverse mapping: typo -> correct label\n",
    "    mapping = {}\n",
    "    for correct, typos in corrections.items():\n",
    "        mapping.update({t: correct for t in typos})\n",
    "    \n",
    "    # Apply mapping; default any unknowns to original value\n",
    "    data[\"class\"] = data[\"class\"].replace(mapping)\n",
    "    \n",
    "    # Capitalize final labels\n",
    "    data[\"class\"] = data[\"class\"].str.title()\n",
    "\n"
   ]
  },
  {
   "cell_type": "code",
   "execution_count": 14,
   "id": "76f817ad-702a-4fbb-b3dc-4220d0935808",
   "metadata": {},
   "outputs": [],
   "source": [
    "# Normalize Stops(e.g.,'non stop\", 'Non-stop', 1 stop', '1-stop')\n",
    "if \"stops\" in data.columns:\n",
    "    data[\"stops\"] = (data[\"stops\"]\n",
    "                     .str.replace(\"stops\", \"stop\", case=False)\n",
    "                     .str.replace(\" - \",\"-\", regex=False)\n",
    "                     .str.replace(\" \", \"-\", regex=False)\n",
    "                     .str.title())"
   ]
  },
  {
   "cell_type": "code",
   "execution_count": 15,
   "id": "dcd6103c-0c91-43e8-9551-fa01f3e84e80",
   "metadata": {},
   "outputs": [],
   "source": [
    "# Common canonical forms:\n",
    "replacements = {\n",
    "    \"Non-Stop\": \"Non-stop\",\n",
    "    \"0-Stop\": \"Non-stop\",\n",
    "    \"Direct\": \"Non-stop\",\n",
    "    \"1-Stop\": \"1-stop\",\n",
    "    \"2-Stop\": \"2-stops\",\n",
    "    \"2-Stop:\": \"2-stops\",\n",
    "}\n",
    "data[\"stops\"] = data[\"stops\"].replace(replacements)\n",
    "\n",
    "   "
   ]
  },
  {
   "cell_type": "code",
   "execution_count": 16,
   "id": "0b31ca95-2329-4c83-9751-867f8a638b84",
   "metadata": {},
   "outputs": [],
   "source": [
    "# Numerical casts\n",
    "for col in [\"duration\", \"days_left\", \"price\"]:\n",
    "    if col in data.columns:\n",
    "        data[col]=pd.to_numeric(data[col],errors=\"coerce\")"
   ]
  },
  {
   "cell_type": "code",
   "execution_count": 17,
   "id": "cbbfd7e8-9d1b-471e-8958-fccad4eb5388",
   "metadata": {},
   "outputs": [
    {
     "name": "stdout",
     "output_type": "stream",
     "text": [
      "Unique stop values before mapping: ['Zero' 'One' 'Two_Or_More']\n",
      "Unique stop values after mapping: [0 1 2]\n"
     ]
    }
   ],
   "source": [
    "import re\n",
    "\n",
    "if \"stops\" in data.columns:\n",
    "    # Step 1: Query unique values first\n",
    "    unique_stops = data[\"stops\"].dropna().unique()\n",
    "    print(\"Unique stop values before mapping:\", unique_stops)\n",
    "    \n",
    "    # Step 2: Define mapping for numeric conversion only\n",
    "    mapping = {\n",
    "        \"zero\": 0,\n",
    "        \"one\": 1,\n",
    "        \"two_or_more\": 2,\n",
    "        \"two or more\": 2,\n",
    "        \"≥2\": 2,\n",
    "        \"2+\": 2,\n",
    "        \"non-stop\": 0,\n",
    "        \"non stop\": 0,\n",
    "        \"direct\": 0,\n",
    "        \"0 stop\": 0,\n",
    "        \"0 stops\": 0,\n",
    "        \"two_or_more\": 2,  \n",
    "    }\n",
    "\n",
    "    # Step 3: Apply numeric conversion on a copy, original stays the same\n",
    "    def stops_to_num(x):\n",
    "        if pd.isna(x):\n",
    "            return np.nan\n",
    "        \n",
    "        x_str = str(x).strip().lower()\n",
    "        \n",
    "        # Direct mapping if found\n",
    "        if x_str in mapping:\n",
    "            return mapping[x_str]\n",
    "        \n",
    "        # Extract numbers if present\n",
    "        match = re.search(r\"\\d+\", x_str)\n",
    "        if match:\n",
    "            return int(match.group())\n",
    "        \n",
    "        return np.nan  # Unrecognized cases become NaN\n",
    "    \n",
    "    data[\"stops_numeric\"] = data[\"stops\"].apply(stops_to_num)\n",
    "    \n",
    "    # Step 4: Add Non-stop flag\n",
    "    data[\"NonStop_Flag\"] = (data[\"stops_numeric\"] == 0).astype(int)\n",
    "    \n",
    "    # Step 5: Show new unique values\n",
    "    print(\"Unique stop values after mapping:\", data[\"stops_numeric\"].unique())\n"
   ]
  },
  {
   "cell_type": "code",
   "execution_count": 18,
   "id": "ff9a723c-c6b5-42ca-a6dc-ebb0ea5a4fc7",
   "metadata": {},
   "outputs": [
    {
     "name": "stdout",
     "output_type": "stream",
     "text": [
      "int64\n"
     ]
    }
   ],
   "source": [
    "print(data[\"days_left\"].dtype)"
   ]
  },
  {
   "cell_type": "code",
   "execution_count": 19,
   "id": "6b8b4761-efbb-4a9d-91f3-be328a05ded5",
   "metadata": {},
   "outputs": [],
   "source": [
    "data[\"days_left\"] = pd.to_numeric(data[\"days_left\"], errors=\"coerce\")"
   ]
  },
  {
   "cell_type": "code",
   "execution_count": 20,
   "id": "76a6b9f9-75df-42bb-a3c4-74a7bf96da37",
   "metadata": {},
   "outputs": [],
   "source": [
    "# Booking window bins\n",
    "if \"days_left\" in data.columns:\n",
    "    bins = [-1, 3, 7, 14, 30, 60, 90, 180, 365, np.inf]\n",
    "    labels = [\"0-3\", \"4-7\", \"8-14\", \"15-30\", \"31-60\", \"61-90\", \"91-180\", \"181-365\", \"365+\"]\n",
    "    data[\"Booking_Window\"] = pd.cut(data[\"days_left\"], bins=bins, labels=labels)\n"
   ]
  },
  {
   "cell_type": "code",
   "execution_count": 21,
   "id": "b7287354-1f53-4034-aa65-a022c17a0e92",
   "metadata": {},
   "outputs": [
    {
     "name": "stdout",
     "output_type": "stream",
     "text": [
      "     days_left Booking_Window\n",
      "0            1            0-3\n",
      "1            1            0-3\n",
      "2            1            0-3\n",
      "3            1            0-3\n",
      "4            1            0-3\n",
      "..         ...            ...\n",
      "405          4            4-7\n",
      "406          4            4-7\n",
      "407          4            4-7\n",
      "408          4            4-7\n",
      "409          4            4-7\n",
      "\n",
      "[410 rows x 2 columns]\n"
     ]
    }
   ],
   "source": [
    "print(data[[\"days_left\",\"Booking_Window\"]].head(410))"
   ]
  },
  {
   "cell_type": "code",
   "execution_count": 22,
   "id": "1c58ec21-cf1d-439a-9868-055eacae15ce",
   "metadata": {},
   "outputs": [
    {
     "name": "stdout",
     "output_type": "stream",
     "text": [
      "CLEAN SAMPLE\n"
     ]
    },
    {
     "data": {
      "text/html": [
       "<div>\n",
       "<style scoped>\n",
       "    .dataframe tbody tr th:only-of-type {\n",
       "        vertical-align: middle;\n",
       "    }\n",
       "\n",
       "    .dataframe tbody tr th {\n",
       "        vertical-align: top;\n",
       "    }\n",
       "\n",
       "    .dataframe thead th {\n",
       "        text-align: right;\n",
       "    }\n",
       "</style>\n",
       "<table border=\"1\" class=\"dataframe\">\n",
       "  <thead>\n",
       "    <tr style=\"text-align: right;\">\n",
       "      <th></th>\n",
       "      <th>index</th>\n",
       "      <th>airline</th>\n",
       "      <th>flight</th>\n",
       "      <th>source_city</th>\n",
       "      <th>departure_time</th>\n",
       "      <th>stops</th>\n",
       "      <th>arrival_time</th>\n",
       "      <th>destination_city</th>\n",
       "      <th>class</th>\n",
       "      <th>duration</th>\n",
       "      <th>days_left</th>\n",
       "      <th>price</th>\n",
       "      <th>stops_numeric</th>\n",
       "      <th>NonStop_Flag</th>\n",
       "      <th>Booking_Window</th>\n",
       "    </tr>\n",
       "  </thead>\n",
       "  <tbody>\n",
       "    <tr>\n",
       "      <th>0</th>\n",
       "      <td>0</td>\n",
       "      <td>SpiceJet</td>\n",
       "      <td>SG-8709</td>\n",
       "      <td>Delhi</td>\n",
       "      <td>Evening</td>\n",
       "      <td>Zero</td>\n",
       "      <td>Night</td>\n",
       "      <td>Mumbai</td>\n",
       "      <td>Economy</td>\n",
       "      <td>2.17</td>\n",
       "      <td>1</td>\n",
       "      <td>5953</td>\n",
       "      <td>0</td>\n",
       "      <td>1</td>\n",
       "      <td>0-3</td>\n",
       "    </tr>\n",
       "    <tr>\n",
       "      <th>1</th>\n",
       "      <td>1</td>\n",
       "      <td>SpiceJet</td>\n",
       "      <td>SG-8157</td>\n",
       "      <td>Delhi</td>\n",
       "      <td>Early_Morning</td>\n",
       "      <td>Zero</td>\n",
       "      <td>Morning</td>\n",
       "      <td>Mumbai</td>\n",
       "      <td>Economy</td>\n",
       "      <td>2.33</td>\n",
       "      <td>1</td>\n",
       "      <td>5953</td>\n",
       "      <td>0</td>\n",
       "      <td>1</td>\n",
       "      <td>0-3</td>\n",
       "    </tr>\n",
       "    <tr>\n",
       "      <th>2</th>\n",
       "      <td>2</td>\n",
       "      <td>AirAsia</td>\n",
       "      <td>I5-764</td>\n",
       "      <td>Delhi</td>\n",
       "      <td>Early_Morning</td>\n",
       "      <td>Zero</td>\n",
       "      <td>Early_Morning</td>\n",
       "      <td>Mumbai</td>\n",
       "      <td>Economy</td>\n",
       "      <td>2.17</td>\n",
       "      <td>1</td>\n",
       "      <td>5956</td>\n",
       "      <td>0</td>\n",
       "      <td>1</td>\n",
       "      <td>0-3</td>\n",
       "    </tr>\n",
       "    <tr>\n",
       "      <th>3</th>\n",
       "      <td>3</td>\n",
       "      <td>Vistara</td>\n",
       "      <td>UK-995</td>\n",
       "      <td>Delhi</td>\n",
       "      <td>Morning</td>\n",
       "      <td>Zero</td>\n",
       "      <td>Afternoon</td>\n",
       "      <td>Mumbai</td>\n",
       "      <td>Economy</td>\n",
       "      <td>2.25</td>\n",
       "      <td>1</td>\n",
       "      <td>5955</td>\n",
       "      <td>0</td>\n",
       "      <td>1</td>\n",
       "      <td>0-3</td>\n",
       "    </tr>\n",
       "    <tr>\n",
       "      <th>4</th>\n",
       "      <td>4</td>\n",
       "      <td>Vistara</td>\n",
       "      <td>UK-963</td>\n",
       "      <td>Delhi</td>\n",
       "      <td>Morning</td>\n",
       "      <td>Zero</td>\n",
       "      <td>Morning</td>\n",
       "      <td>Mumbai</td>\n",
       "      <td>Economy</td>\n",
       "      <td>2.33</td>\n",
       "      <td>1</td>\n",
       "      <td>5955</td>\n",
       "      <td>0</td>\n",
       "      <td>1</td>\n",
       "      <td>0-3</td>\n",
       "    </tr>\n",
       "    <tr>\n",
       "      <th>...</th>\n",
       "      <td>...</td>\n",
       "      <td>...</td>\n",
       "      <td>...</td>\n",
       "      <td>...</td>\n",
       "      <td>...</td>\n",
       "      <td>...</td>\n",
       "      <td>...</td>\n",
       "      <td>...</td>\n",
       "      <td>...</td>\n",
       "      <td>...</td>\n",
       "      <td>...</td>\n",
       "      <td>...</td>\n",
       "      <td>...</td>\n",
       "      <td>...</td>\n",
       "      <td>...</td>\n",
       "    </tr>\n",
       "    <tr>\n",
       "      <th>405</th>\n",
       "      <td>405</td>\n",
       "      <td>Vistara</td>\n",
       "      <td>UK-933</td>\n",
       "      <td>Delhi</td>\n",
       "      <td>Afternoon</td>\n",
       "      <td>Zero</td>\n",
       "      <td>Evening</td>\n",
       "      <td>Mumbai</td>\n",
       "      <td>Economy</td>\n",
       "      <td>2.17</td>\n",
       "      <td>4</td>\n",
       "      <td>5955</td>\n",
       "      <td>0</td>\n",
       "      <td>1</td>\n",
       "      <td>4-7</td>\n",
       "    </tr>\n",
       "    <tr>\n",
       "      <th>406</th>\n",
       "      <td>406</td>\n",
       "      <td>Vistara</td>\n",
       "      <td>UK-985</td>\n",
       "      <td>Delhi</td>\n",
       "      <td>Evening</td>\n",
       "      <td>Zero</td>\n",
       "      <td>Night</td>\n",
       "      <td>Mumbai</td>\n",
       "      <td>Economy</td>\n",
       "      <td>2.17</td>\n",
       "      <td>4</td>\n",
       "      <td>5955</td>\n",
       "      <td>0</td>\n",
       "      <td>1</td>\n",
       "      <td>4-7</td>\n",
       "    </tr>\n",
       "    <tr>\n",
       "      <th>407</th>\n",
       "      <td>407</td>\n",
       "      <td>Vistara</td>\n",
       "      <td>UK-995</td>\n",
       "      <td>Delhi</td>\n",
       "      <td>Morning</td>\n",
       "      <td>Zero</td>\n",
       "      <td>Afternoon</td>\n",
       "      <td>Mumbai</td>\n",
       "      <td>Economy</td>\n",
       "      <td>2.25</td>\n",
       "      <td>4</td>\n",
       "      <td>5955</td>\n",
       "      <td>0</td>\n",
       "      <td>1</td>\n",
       "      <td>4-7</td>\n",
       "    </tr>\n",
       "    <tr>\n",
       "      <th>408</th>\n",
       "      <td>408</td>\n",
       "      <td>Vistara</td>\n",
       "      <td>UK-977</td>\n",
       "      <td>Delhi</td>\n",
       "      <td>Evening</td>\n",
       "      <td>Zero</td>\n",
       "      <td>Night</td>\n",
       "      <td>Mumbai</td>\n",
       "      <td>Economy</td>\n",
       "      <td>2.25</td>\n",
       "      <td>4</td>\n",
       "      <td>5955</td>\n",
       "      <td>0</td>\n",
       "      <td>1</td>\n",
       "      <td>4-7</td>\n",
       "    </tr>\n",
       "    <tr>\n",
       "      <th>409</th>\n",
       "      <td>409</td>\n",
       "      <td>Vistara</td>\n",
       "      <td>UK-945</td>\n",
       "      <td>Delhi</td>\n",
       "      <td>Morning</td>\n",
       "      <td>Zero</td>\n",
       "      <td>Afternoon</td>\n",
       "      <td>Mumbai</td>\n",
       "      <td>Economy</td>\n",
       "      <td>2.33</td>\n",
       "      <td>4</td>\n",
       "      <td>5955</td>\n",
       "      <td>0</td>\n",
       "      <td>1</td>\n",
       "      <td>4-7</td>\n",
       "    </tr>\n",
       "  </tbody>\n",
       "</table>\n",
       "<p>410 rows × 15 columns</p>\n",
       "</div>"
      ],
      "text/plain": [
       "     index   airline   flight source_city departure_time stops   arrival_time  \\\n",
       "0        0  SpiceJet  SG-8709       Delhi        Evening  Zero          Night   \n",
       "1        1  SpiceJet  SG-8157       Delhi  Early_Morning  Zero        Morning   \n",
       "2        2   AirAsia   I5-764       Delhi  Early_Morning  Zero  Early_Morning   \n",
       "3        3   Vistara   UK-995       Delhi        Morning  Zero      Afternoon   \n",
       "4        4   Vistara   UK-963       Delhi        Morning  Zero        Morning   \n",
       "..     ...       ...      ...         ...            ...   ...            ...   \n",
       "405    405   Vistara   UK-933       Delhi      Afternoon  Zero        Evening   \n",
       "406    406   Vistara   UK-985       Delhi        Evening  Zero          Night   \n",
       "407    407   Vistara   UK-995       Delhi        Morning  Zero      Afternoon   \n",
       "408    408   Vistara   UK-977       Delhi        Evening  Zero          Night   \n",
       "409    409   Vistara   UK-945       Delhi        Morning  Zero      Afternoon   \n",
       "\n",
       "    destination_city    class  duration  days_left  price  stops_numeric  \\\n",
       "0             Mumbai  Economy      2.17          1   5953              0   \n",
       "1             Mumbai  Economy      2.33          1   5953              0   \n",
       "2             Mumbai  Economy      2.17          1   5956              0   \n",
       "3             Mumbai  Economy      2.25          1   5955              0   \n",
       "4             Mumbai  Economy      2.33          1   5955              0   \n",
       "..               ...      ...       ...        ...    ...            ...   \n",
       "405           Mumbai  Economy      2.17          4   5955              0   \n",
       "406           Mumbai  Economy      2.17          4   5955              0   \n",
       "407           Mumbai  Economy      2.25          4   5955              0   \n",
       "408           Mumbai  Economy      2.25          4   5955              0   \n",
       "409           Mumbai  Economy      2.33          4   5955              0   \n",
       "\n",
       "     NonStop_Flag Booking_Window  \n",
       "0               1            0-3  \n",
       "1               1            0-3  \n",
       "2               1            0-3  \n",
       "3               1            0-3  \n",
       "4               1            0-3  \n",
       "..            ...            ...  \n",
       "405             1            4-7  \n",
       "406             1            4-7  \n",
       "407             1            4-7  \n",
       "408             1            4-7  \n",
       "409             1            4-7  \n",
       "\n",
       "[410 rows x 15 columns]"
      ]
     },
     "metadata": {},
     "output_type": "display_data"
    }
   ],
   "source": [
    "print(\"CLEAN SAMPLE\")\n",
    "display(data.head(410))"
   ]
  },
  {
   "cell_type": "markdown",
   "id": "9d45c1db-c810-41fd-a202-fc34a074e72f",
   "metadata": {},
   "source": [
    "3. DESCRIPTIVE ANALYSIS"
   ]
  },
  {
   "cell_type": "code",
   "execution_count": 23,
   "id": "b8fedc16-068e-4b8a-9879-2fd66949d8a9",
   "metadata": {},
   "outputs": [
    {
     "name": "stdout",
     "output_type": "stream",
     "text": [
      "Total_flights: 300153\n"
     ]
    }
   ],
   "source": [
    "total_flight = len(data)\n",
    "print(\"Total_flights:\", total_flight)"
   ]
  },
  {
   "cell_type": "code",
   "execution_count": 24,
   "id": "53e28f20-91a0-49d3-876b-25a67a104789",
   "metadata": {},
   "outputs": [
    {
     "name": "stdout",
     "output_type": "stream",
     "text": [
      "Flights per airline:\n"
     ]
    },
    {
     "data": {
      "text/html": [
       "<div>\n",
       "<style scoped>\n",
       "    .dataframe tbody tr th:only-of-type {\n",
       "        vertical-align: middle;\n",
       "    }\n",
       "\n",
       "    .dataframe tbody tr th {\n",
       "        vertical-align: top;\n",
       "    }\n",
       "\n",
       "    .dataframe thead th {\n",
       "        text-align: right;\n",
       "    }\n",
       "</style>\n",
       "<table border=\"1\" class=\"dataframe\">\n",
       "  <thead>\n",
       "    <tr style=\"text-align: right;\">\n",
       "      <th></th>\n",
       "      <th>count</th>\n",
       "    </tr>\n",
       "    <tr>\n",
       "      <th>airline</th>\n",
       "      <th></th>\n",
       "    </tr>\n",
       "  </thead>\n",
       "  <tbody>\n",
       "    <tr>\n",
       "      <th>Vistara</th>\n",
       "      <td>127859</td>\n",
       "    </tr>\n",
       "    <tr>\n",
       "      <th>Air_India</th>\n",
       "      <td>80892</td>\n",
       "    </tr>\n",
       "    <tr>\n",
       "      <th>Indigo</th>\n",
       "      <td>43120</td>\n",
       "    </tr>\n",
       "    <tr>\n",
       "      <th>GO_FIRST</th>\n",
       "      <td>23173</td>\n",
       "    </tr>\n",
       "    <tr>\n",
       "      <th>AirAsia</th>\n",
       "      <td>16098</td>\n",
       "    </tr>\n",
       "    <tr>\n",
       "      <th>SpiceJet</th>\n",
       "      <td>9011</td>\n",
       "    </tr>\n",
       "  </tbody>\n",
       "</table>\n",
       "</div>"
      ],
      "text/plain": [
       "            count\n",
       "airline          \n",
       "Vistara    127859\n",
       "Air_India   80892\n",
       "Indigo      43120\n",
       "GO_FIRST    23173\n",
       "AirAsia     16098\n",
       "SpiceJet     9011"
      ]
     },
     "metadata": {},
     "output_type": "display_data"
    }
   ],
   "source": [
    "flights_per_airline = data[\"airline\"].value_counts(dropna=False)\n",
    "print(\"Flights per airline:\")\n",
    "display(flights_per_airline.to_frame(\"count\"))"
   ]
  },
  {
   "cell_type": "markdown",
   "id": "13d4f4fd-7878-4b71-ac1d-69a52f13eb07",
   "metadata": {},
   "source": [
    "Flights per Airline\n",
    "\n",
    "The dataset shows the total number of flights operated by each airline:\n",
    "\n",
    "Key Insights:\n",
    "\n",
    "Vistara dominates with the largest share (42.6%) of flights.\n",
    "\n",
    "Air India comes second (26.9%), while SpiceJet has the smallest share (3%).\n",
    "\n",
    "Together, Vistara and Air India account for nearly 70% of total flights."
   ]
  },
  {
   "cell_type": "code",
   "execution_count": 24,
   "id": "a4d7ec5c-6768-44c8-882d-cf266313b020",
   "metadata": {},
   "outputs": [
    {
     "name": "stdout",
     "output_type": "stream",
     "text": [
      "Top 5 Routes:\n"
     ]
    },
    {
     "data": {
      "text/html": [
       "<div>\n",
       "<style scoped>\n",
       "    .dataframe tbody tr th:only-of-type {\n",
       "        vertical-align: middle;\n",
       "    }\n",
       "\n",
       "    .dataframe tbody tr th {\n",
       "        vertical-align: top;\n",
       "    }\n",
       "\n",
       "    .dataframe thead th {\n",
       "        text-align: right;\n",
       "    }\n",
       "</style>\n",
       "<table border=\"1\" class=\"dataframe\">\n",
       "  <thead>\n",
       "    <tr style=\"text-align: right;\">\n",
       "      <th></th>\n",
       "      <th>count</th>\n",
       "    </tr>\n",
       "    <tr>\n",
       "      <th>route</th>\n",
       "      <th></th>\n",
       "    </tr>\n",
       "  </thead>\n",
       "  <tbody>\n",
       "    <tr>\n",
       "      <th>Delhi → Mumbai</th>\n",
       "      <td>15289</td>\n",
       "    </tr>\n",
       "    <tr>\n",
       "      <th>Mumbai → Delhi</th>\n",
       "      <td>14809</td>\n",
       "    </tr>\n",
       "    <tr>\n",
       "      <th>Delhi → Bangalore</th>\n",
       "      <td>14012</td>\n",
       "    </tr>\n",
       "    <tr>\n",
       "      <th>Bangalore → Delhi</th>\n",
       "      <td>13756</td>\n",
       "    </tr>\n",
       "    <tr>\n",
       "      <th>Bangalore → Mumbai</th>\n",
       "      <td>12939</td>\n",
       "    </tr>\n",
       "  </tbody>\n",
       "</table>\n",
       "</div>"
      ],
      "text/plain": [
       "                    count\n",
       "route                    \n",
       "Delhi → Mumbai      15289\n",
       "Mumbai → Delhi      14809\n",
       "Delhi → Bangalore   14012\n",
       "Bangalore → Delhi   13756\n",
       "Bangalore → Mumbai  12939"
      ]
     },
     "metadata": {},
     "output_type": "display_data"
    }
   ],
   "source": [
    "# Create the 'route' column by combining source and destination cities\n",
    "data[\"route\"] = data[\"source_city\"] + \" → \" + data[\"destination_city\"]\n",
    "\n",
    "# Now find the top 5 routes\n",
    "if \"route\" in data.columns:\n",
    "    top5_routes = data[\"route\"].value_counts().head(5)\n",
    "    print(\"Top 5 Routes:\")\n",
    "    display(top5_routes.to_frame(\"count\"))\n"
   ]
  },
  {
   "cell_type": "markdown",
   "id": "9bc378c8-15e4-463d-90dc-8a4ab7d68b67",
   "metadata": {},
   "source": [
    "The data shows that the busiest air route is Delhi → Mumbai with 15,289 flights, closely followed by Mumbai → Delhi at 14,809 flights. Delhi → Bangalore (14,012) and Bangalore → Delhi (13,756) are next, while Bangalore → Mumbai (12,939) ranks fifth.\n",
    "\n",
    "Overall, traffic is heaviest between Delhi, Mumbai, and Bangalore, indicating they are the main air travel hubs in the dataset."
   ]
  },
  {
   "cell_type": "code",
   "execution_count": 27,
   "id": "f8a87dcd-7faf-462e-b003-e7c4c1d42714",
   "metadata": {},
   "outputs": [
    {
     "name": "stdout",
     "output_type": "stream",
     "text": [
      "Top 5 Routes by Price Performance (Highest Avg Price):\n"
     ]
    },
    {
     "data": {
      "text/html": [
       "<div>\n",
       "<style scoped>\n",
       "    .dataframe tbody tr th:only-of-type {\n",
       "        vertical-align: middle;\n",
       "    }\n",
       "\n",
       "    .dataframe tbody tr th {\n",
       "        vertical-align: top;\n",
       "    }\n",
       "\n",
       "    .dataframe thead th {\n",
       "        text-align: right;\n",
       "    }\n",
       "</style>\n",
       "<table border=\"1\" class=\"dataframe\">\n",
       "  <thead>\n",
       "    <tr style=\"text-align: right;\">\n",
       "      <th></th>\n",
       "      <th>avg_price</th>\n",
       "    </tr>\n",
       "    <tr>\n",
       "      <th>route</th>\n",
       "      <th></th>\n",
       "    </tr>\n",
       "  </thead>\n",
       "  <tbody>\n",
       "    <tr>\n",
       "      <th>Chennai → Bangalore</th>\n",
       "      <td>25081.850454</td>\n",
       "    </tr>\n",
       "    <tr>\n",
       "      <th>Kolkata → Chennai</th>\n",
       "      <td>23660.361040</td>\n",
       "    </tr>\n",
       "    <tr>\n",
       "      <th>Bangalore → Kolkata</th>\n",
       "      <td>23500.061229</td>\n",
       "    </tr>\n",
       "    <tr>\n",
       "      <th>Bangalore → Chennai</th>\n",
       "      <td>23321.850078</td>\n",
       "    </tr>\n",
       "    <tr>\n",
       "      <th>Mumbai → Bangalore</th>\n",
       "      <td>23147.873807</td>\n",
       "    </tr>\n",
       "  </tbody>\n",
       "</table>\n",
       "</div>"
      ],
      "text/plain": [
       "                        avg_price\n",
       "route                            \n",
       "Chennai → Bangalore  25081.850454\n",
       "Kolkata → Chennai    23660.361040\n",
       "Bangalore → Kolkata  23500.061229\n",
       "Bangalore → Chennai  23321.850078\n",
       "Mumbai → Bangalore   23147.873807"
      ]
     },
     "metadata": {},
     "output_type": "display_data"
    }
   ],
   "source": [
    "if \"route\" not in data.columns: # to confirm its presence in the dataset\n",
    "    data[\"route\"] = data[\"source_city\"] + \" → \" + data[\"destination_city\"]\n",
    "\n",
    "# Now group by route to get top 5 routes by average price\n",
    "route_price = (\n",
    "    data.groupby(\"route\")[\"price\"]\n",
    "    .mean()\n",
    "    .sort_values(ascending=False)\n",
    "    .head(5)\n",
    ")\n",
    "\n",
    "print(\"Top 5 Routes by Price Performance (Highest Avg Price):\")\n",
    "display(route_price.to_frame(\"avg_price\"))\n"
   ]
  },
  {
   "cell_type": "markdown",
   "id": "137239e3-a3e5-48a7-a2f7-4c770ed34f1a",
   "metadata": {},
   "source": [
    "Chennai → Bangalore has the highest average ticket price at 25,082, suggesting either high demand, limited flights, or premium pricing.\n",
    "\n",
    "Kolkata → Chennai (23,660) and Bangalore → Kolkata (23,500) follow closely, indicating that routes involving Kolkata tend to be relatively expensive.\n",
    "\n",
    "Bangalore → Chennai (23,322) is also high, despite both cities being in southern India—possibly due to fewer flights or business-heavy traffic.\n",
    "\n",
    "Mumbai → Bangalore (23,148) rounds out the list, showing that two major economic hubs also attract premium prices.\n",
    "\n",
    "Observation: These routes don’t fully align with the busiest routes earlier. This means high traffic doesn’t always mean high price; pricing likely depends on competition, route distance, and passenger profile."
   ]
  },
  {
   "cell_type": "markdown",
   "id": "18b02a00-2f9c-4685-a43b-10fcc3875427",
   "metadata": {},
   "source": [
    "4. PRICE AND DURATION INSIGHTS"
   ]
  },
  {
   "cell_type": "code",
   "execution_count": 28,
   "id": "d6bd9463-f40d-4a60-b859-021963c564ce",
   "metadata": {},
   "outputs": [
    {
     "name": "stdout",
     "output_type": "stream",
     "text": [
      "Average ticket price: 20889.66\n"
     ]
    }
   ],
   "source": [
    "avg_price = data[\"price\"].mean()\n",
    "print(\"Average ticket price:\", round(avg_price,2))"
   ]
  },
  {
   "cell_type": "markdown",
   "id": "f7a58dde-10c6-417c-bab9-995f2231c150",
   "metadata": {},
   "source": [
    "The average ticket price is 20889.66(USD) "
   ]
  },
  {
   "cell_type": "code",
   "execution_count": 37,
   "id": "35c6bb92-4ff0-41d2-b366-947681f7d73c",
   "metadata": {},
   "outputs": [
    {
     "name": "stdout",
     "output_type": "stream",
     "text": [
      "Avg price by class:\n"
     ]
    },
    {
     "data": {
      "text/html": [
       "<div>\n",
       "<style scoped>\n",
       "    .dataframe tbody tr th:only-of-type {\n",
       "        vertical-align: middle;\n",
       "    }\n",
       "\n",
       "    .dataframe tbody tr th {\n",
       "        vertical-align: top;\n",
       "    }\n",
       "\n",
       "    .dataframe thead th {\n",
       "        text-align: right;\n",
       "    }\n",
       "</style>\n",
       "<table border=\"1\" class=\"dataframe\">\n",
       "  <thead>\n",
       "    <tr style=\"text-align: right;\">\n",
       "      <th></th>\n",
       "      <th>avg_price</th>\n",
       "    </tr>\n",
       "    <tr>\n",
       "      <th>class</th>\n",
       "      <th></th>\n",
       "    </tr>\n",
       "  </thead>\n",
       "  <tbody>\n",
       "    <tr>\n",
       "      <th>Business</th>\n",
       "      <td>52540.081124</td>\n",
       "    </tr>\n",
       "    <tr>\n",
       "      <th>Economy</th>\n",
       "      <td>6572.342383</td>\n",
       "    </tr>\n",
       "  </tbody>\n",
       "</table>\n",
       "</div>"
      ],
      "text/plain": [
       "             avg_price\n",
       "class                 \n",
       "Business  52540.081124\n",
       "Economy    6572.342383"
      ]
     },
     "metadata": {},
     "output_type": "display_data"
    }
   ],
   "source": [
    "if \"class\" in data.columns:\n",
    "    price_by_class = data.groupby(\"class\")[\"price\"].mean().sort_values(ascending=False)\n",
    "    print(\"Avg price by class:\")\n",
    "    display(price_by_class.to_frame(\"avg_price\"))"
   ]
  },
  {
   "cell_type": "markdown",
   "id": "b51c860e-7e41-44cf-a486-f79b5adb5899",
   "metadata": {},
   "source": [
    "Business class tickets average ₹52,540, which is almost 8 times the price of\n",
    "\n",
    "Economy class tickets average ₹6,572.\n",
    "\n",
    "This significant gap is expected, as business class offers premium seating, enhanced services, and is targeted at corporate or high-income travelers, while economy caters to the mass market.\n"
   ]
  },
  {
   "cell_type": "code",
   "execution_count": 38,
   "id": "12c4c297-01cc-492c-9e06-08b5218ddcc8",
   "metadata": {},
   "outputs": [
    {
     "name": "stdout",
     "output_type": "stream",
     "text": [
      "\\nCorrelation Duration vs Price - Pearson:0.204, Spearman:0.319\n"
     ]
    }
   ],
   "source": [
    "if {\"duration\", \"price\"}.issubset(data.columns):\n",
    "    corr_pearson = data[[\"duration\",\"price\"]].corr(method=\"pearson\").iloc[0,1]\n",
    "    corr_spearman = data[[\"duration\", \"price\"]].corr(method=\"spearman\").iloc[0,1]\n",
    "    print(f\"\\\\nCorrelation Duration vs Price - Pearson:{corr_pearson:.3f}, Spearman:{corr_spearman:.3f}\")"
   ]
  },
  {
   "cell_type": "markdown",
   "id": "d247fac8-4e6c-43d8-8bfc-760b1bcd1cb4",
   "metadata": {},
   "source": [
    "Pearson (0.204) → Shows a weak positive linear correlation between flight duration and price. As duration increases, price tends to rise, but the relationship isn’t very strong or strictly linear.\n",
    "\n",
    "Spearman (0.319) → Indicates a moderate positive monotonic correlation, meaning longer flights generally cost more, but not in a perfectly consistent way.\n",
    "\n",
    "Bottom line: Price increases with duration, but other factors—like demand, route popularity, or airline pricing strategies—play a bigger role than just flight length."
   ]
  },
  {
   "cell_type": "markdown",
   "id": "b70fb242-5cb9-448a-a694-20305e41561b",
   "metadata": {},
   "source": [
    "5. STOPS & NON-STOP INSIGHTS"
   ]
  },
  {
   "cell_type": "code",
   "execution_count": 39,
   "id": "e2f88ebe-c5a8-4f6d-b96c-95cc17dbc5dd",
   "metadata": {},
   "outputs": [
    {
     "name": "stdout",
     "output_type": "stream",
     "text": [
      "Avg price by stops:\n"
     ]
    },
    {
     "data": {
      "text/html": [
       "<div>\n",
       "<style scoped>\n",
       "    .dataframe tbody tr th:only-of-type {\n",
       "        vertical-align: middle;\n",
       "    }\n",
       "\n",
       "    .dataframe tbody tr th {\n",
       "        vertical-align: top;\n",
       "    }\n",
       "\n",
       "    .dataframe thead th {\n",
       "        text-align: right;\n",
       "    }\n",
       "</style>\n",
       "<table border=\"1\" class=\"dataframe\">\n",
       "  <thead>\n",
       "    <tr style=\"text-align: right;\">\n",
       "      <th></th>\n",
       "      <th>avg_price</th>\n",
       "    </tr>\n",
       "    <tr>\n",
       "      <th>stops</th>\n",
       "      <th></th>\n",
       "    </tr>\n",
       "  </thead>\n",
       "  <tbody>\n",
       "    <tr>\n",
       "      <th>One</th>\n",
       "      <td>22900.992482</td>\n",
       "    </tr>\n",
       "    <tr>\n",
       "      <th>Two_Or_More</th>\n",
       "      <td>14113.450775</td>\n",
       "    </tr>\n",
       "    <tr>\n",
       "      <th>Zero</th>\n",
       "      <td>9375.938535</td>\n",
       "    </tr>\n",
       "  </tbody>\n",
       "</table>\n",
       "</div>"
      ],
      "text/plain": [
       "                avg_price\n",
       "stops                    \n",
       "One          22900.992482\n",
       "Two_Or_More  14113.450775\n",
       "Zero          9375.938535"
      ]
     },
     "metadata": {},
     "output_type": "display_data"
    },
    {
     "name": "stdout",
     "output_type": "stream",
     "text": [
      "\n",
      "Airline with most non-stop flights:\n"
     ]
    },
    {
     "data": {
      "text/html": [
       "<div>\n",
       "<style scoped>\n",
       "    .dataframe tbody tr th:only-of-type {\n",
       "        vertical-align: middle;\n",
       "    }\n",
       "\n",
       "    .dataframe tbody tr th {\n",
       "        vertical-align: top;\n",
       "    }\n",
       "\n",
       "    .dataframe thead th {\n",
       "        text-align: right;\n",
       "    }\n",
       "</style>\n",
       "<table border=\"1\" class=\"dataframe\">\n",
       "  <thead>\n",
       "    <tr style=\"text-align: right;\">\n",
       "      <th></th>\n",
       "      <th>nonstop_count</th>\n",
       "    </tr>\n",
       "    <tr>\n",
       "      <th>airline</th>\n",
       "      <th></th>\n",
       "    </tr>\n",
       "  </thead>\n",
       "  <tbody>\n",
       "    <tr>\n",
       "      <th>Indigo</th>\n",
       "      <td>11216</td>\n",
       "    </tr>\n",
       "    <tr>\n",
       "      <th>Vistara</th>\n",
       "      <td>10260</td>\n",
       "    </tr>\n",
       "    <tr>\n",
       "      <th>Air_India</th>\n",
       "      <td>6409</td>\n",
       "    </tr>\n",
       "    <tr>\n",
       "      <th>GO_FIRST</th>\n",
       "      <td>3223</td>\n",
       "    </tr>\n",
       "    <tr>\n",
       "      <th>SpiceJet</th>\n",
       "      <td>2462</td>\n",
       "    </tr>\n",
       "    <tr>\n",
       "      <th>AirAsia</th>\n",
       "      <td>2434</td>\n",
       "    </tr>\n",
       "  </tbody>\n",
       "</table>\n",
       "</div>"
      ],
      "text/plain": [
       "           nonstop_count\n",
       "airline                 \n",
       "Indigo             11216\n",
       "Vistara            10260\n",
       "Air_India           6409\n",
       "GO_FIRST            3223\n",
       "SpiceJet            2462\n",
       "AirAsia             2434"
      ]
     },
     "metadata": {},
     "output_type": "display_data"
    }
   ],
   "source": [
    "if \"stops\" in data.columns:\n",
    "    price_by_stops = data.groupby(\"stops\")[\"price\"].mean().sort_values(ascending=False)\n",
    "    print(\"Avg price by stops:\")\n",
    "    display(price_by_stops.to_frame(\"avg_price\"))\n",
    "\n",
    "if {\"NonStop_Flag\", \"airline\"}.issubset(data.columns):\n",
    "    nonstop_counts= data[data[\"NonStop_Flag\"] ==1][\"airline\"].value_counts()\n",
    "    print(\"\\nAirline with most non-stop flights:\")\n",
    "    display(nonstop_counts.to_frame(\"nonstop_count\"))"
   ]
  },
  {
   "cell_type": "markdown",
   "id": "b17927be-0859-4c6a-b98a-4c8d604fbf78",
   "metadata": {},
   "source": [
    "1. Average Price by Stops\n",
    "\n",
    "One stop (₹22,901) has the highest average price — likely because connecting flights on key routes are priced higher due to demand or limited options.\n",
    "\n",
    "Two or more stops (₹14,113) are cheaper, possibly because passengers trade time/convenience for cost savings.\n",
    "\n",
    "Non-stop (₹9,376) is the cheapest on average, which is surprising because in many markets, direct flights cost more — this suggests heavy competition on popular direct routes drives prices down.\n",
    "\n",
    "2. Airlines with Most Non-stop Flights\n",
    "\n",
    "Indigo (11,216) leads in non-stop flights, followed by Vistara (10,260) and Air India (6,409).\n",
    "\n",
    "Smaller players like GO_FIRST, SpiceJet, and AirAsia contribute fewer non-stop flights overall.\n",
    "\n",
    "Key Insight: Non-stop flights dominate pricing efficiency, and Indigo plus Vistara clearly focus on serving this demand aggressively."
   ]
  },
  {
   "cell_type": "markdown",
   "id": "cfdad8ad-4705-447a-aac3-31442a249b37",
   "metadata": {},
   "source": [
    "6. BOOKING BEHAVIOUR"
   ]
  },
  {
   "cell_type": "code",
   "execution_count": 40,
   "id": "99589f15-8c15-4bea-ad6e-e311129ae253",
   "metadata": {},
   "outputs": [
    {
     "name": "stdout",
     "output_type": "stream",
     "text": [
      "Average price per exact Days_Left:\n"
     ]
    },
    {
     "data": {
      "text/html": [
       "<div>\n",
       "<style scoped>\n",
       "    .dataframe tbody tr th:only-of-type {\n",
       "        vertical-align: middle;\n",
       "    }\n",
       "\n",
       "    .dataframe tbody tr th {\n",
       "        vertical-align: top;\n",
       "    }\n",
       "\n",
       "    .dataframe thead th {\n",
       "        text-align: right;\n",
       "    }\n",
       "</style>\n",
       "<table border=\"1\" class=\"dataframe\">\n",
       "  <thead>\n",
       "    <tr style=\"text-align: right;\">\n",
       "      <th></th>\n",
       "      <th>days_left</th>\n",
       "      <th>price</th>\n",
       "    </tr>\n",
       "  </thead>\n",
       "  <tbody>\n",
       "    <tr>\n",
       "      <th>1</th>\n",
       "      <td>2</td>\n",
       "      <td>30211.299801</td>\n",
       "    </tr>\n",
       "    <tr>\n",
       "      <th>2</th>\n",
       "      <td>3</td>\n",
       "      <td>28976.083569</td>\n",
       "    </tr>\n",
       "    <tr>\n",
       "      <th>4</th>\n",
       "      <td>5</td>\n",
       "      <td>26679.773368</td>\n",
       "    </tr>\n",
       "    <tr>\n",
       "      <th>3</th>\n",
       "      <td>4</td>\n",
       "      <td>25730.905653</td>\n",
       "    </tr>\n",
       "    <tr>\n",
       "      <th>8</th>\n",
       "      <td>9</td>\n",
       "      <td>25726.246072</td>\n",
       "    </tr>\n",
       "    <tr>\n",
       "      <th>6</th>\n",
       "      <td>7</td>\n",
       "      <td>25588.367351</td>\n",
       "    </tr>\n",
       "    <tr>\n",
       "      <th>9</th>\n",
       "      <td>10</td>\n",
       "      <td>25572.819134</td>\n",
       "    </tr>\n",
       "    <tr>\n",
       "      <th>7</th>\n",
       "      <td>8</td>\n",
       "      <td>24895.883995</td>\n",
       "    </tr>\n",
       "    <tr>\n",
       "      <th>5</th>\n",
       "      <td>6</td>\n",
       "      <td>24856.493902</td>\n",
       "    </tr>\n",
       "    <tr>\n",
       "      <th>10</th>\n",
       "      <td>11</td>\n",
       "      <td>22990.656070</td>\n",
       "    </tr>\n",
       "  </tbody>\n",
       "</table>\n",
       "</div>"
      ],
      "text/plain": [
       "    days_left         price\n",
       "1           2  30211.299801\n",
       "2           3  28976.083569\n",
       "4           5  26679.773368\n",
       "3           4  25730.905653\n",
       "8           9  25726.246072\n",
       "6           7  25588.367351\n",
       "9          10  25572.819134\n",
       "7           8  24895.883995\n",
       "5           6  24856.493902\n",
       "10         11  22990.656070"
      ]
     },
     "metadata": {},
     "output_type": "display_data"
    }
   ],
   "source": [
    "if \"days_left\" in data.columns:\n",
    "    avg_by_daysleft = (\n",
    "        data.groupby(\"days_left\")[\"price\"]\n",
    "        .mean()\n",
    "        .reset_index()\n",
    "        .sort_values(\"price\", ascending = False)\n",
    "    )\n",
    "    print(\"Average price per exact Days_Left:\")\n",
    "    display(avg_by_daysleft.head(10))\n"
   ]
  },
  {
   "cell_type": "markdown",
   "id": "11a3b2e7-83a5-469f-ba2a-1ba379725611",
   "metadata": {},
   "source": [
    "1–2 days before departure has the highest average price (₹30,211), showing that last-minute bookings cost the most.\n",
    "\n",
    "Prices gradually decrease as the gap between booking and departure widens: e.g., 2–3 days (₹28,976) → 4–5 days (₹26,679) → 10–11 days (₹22,991).\n",
    "\n",
    "The trend suggests early booking leads to cheaper fares, which is consistent with most airline pricing models."
   ]
  },
  {
   "cell_type": "code",
   "execution_count": 41,
   "id": "ec288030-6abe-4e15-81b5-4f98c6a78b60",
   "metadata": {},
   "outputs": [
    {
     "name": "stdout",
     "output_type": "stream",
     "text": [
      "\n",
      "Average price by booking window:\n"
     ]
    },
    {
     "name": "stderr",
     "output_type": "stream",
     "text": [
      "C:\\Users\\USER\\AppData\\Local\\Temp\\ipykernel_15128\\2262111149.py:3: FutureWarning: The default of observed=False is deprecated and will be changed to True in a future version of pandas. Pass observed=False to retain current behavior or observed=True to adopt the future default and silence this warning.\n",
      "  data.groupby(\"Booking_Window\")[\"price\"]\n"
     ]
    },
    {
     "data": {
      "text/html": [
       "<div>\n",
       "<style scoped>\n",
       "    .dataframe tbody tr th:only-of-type {\n",
       "        vertical-align: middle;\n",
       "    }\n",
       "\n",
       "    .dataframe tbody tr th {\n",
       "        vertical-align: top;\n",
       "    }\n",
       "\n",
       "    .dataframe thead th {\n",
       "        text-align: right;\n",
       "    }\n",
       "</style>\n",
       "<table border=\"1\" class=\"dataframe\">\n",
       "  <thead>\n",
       "    <tr style=\"text-align: right;\">\n",
       "      <th></th>\n",
       "      <th>Booking_Window</th>\n",
       "      <th>price</th>\n",
       "    </tr>\n",
       "  </thead>\n",
       "  <tbody>\n",
       "    <tr>\n",
       "      <th>0</th>\n",
       "      <td>0-3</td>\n",
       "      <td>28068.681894</td>\n",
       "    </tr>\n",
       "    <tr>\n",
       "      <th>1</th>\n",
       "      <td>4-7</td>\n",
       "      <td>25698.242059</td>\n",
       "    </tr>\n",
       "    <tr>\n",
       "      <th>2</th>\n",
       "      <td>8-14</td>\n",
       "      <td>23768.362808</td>\n",
       "    </tr>\n",
       "    <tr>\n",
       "      <th>3</th>\n",
       "      <td>15-30</td>\n",
       "      <td>19888.759071</td>\n",
       "    </tr>\n",
       "    <tr>\n",
       "      <th>4</th>\n",
       "      <td>31-60</td>\n",
       "      <td>19260.919021</td>\n",
       "    </tr>\n",
       "    <tr>\n",
       "      <th>5</th>\n",
       "      <td>61-90</td>\n",
       "      <td>NaN</td>\n",
       "    </tr>\n",
       "    <tr>\n",
       "      <th>6</th>\n",
       "      <td>91-180</td>\n",
       "      <td>NaN</td>\n",
       "    </tr>\n",
       "    <tr>\n",
       "      <th>7</th>\n",
       "      <td>181-365</td>\n",
       "      <td>NaN</td>\n",
       "    </tr>\n",
       "    <tr>\n",
       "      <th>8</th>\n",
       "      <td>365+</td>\n",
       "      <td>NaN</td>\n",
       "    </tr>\n",
       "  </tbody>\n",
       "</table>\n",
       "</div>"
      ],
      "text/plain": [
       "  Booking_Window         price\n",
       "0            0-3  28068.681894\n",
       "1            4-7  25698.242059\n",
       "2           8-14  23768.362808\n",
       "3          15-30  19888.759071\n",
       "4          31-60  19260.919021\n",
       "5          61-90           NaN\n",
       "6         91-180           NaN\n",
       "7        181-365           NaN\n",
       "8           365+           NaN"
      ]
     },
     "metadata": {},
     "output_type": "display_data"
    }
   ],
   "source": [
    "if \"Booking_Window\" in data.columns:\n",
    "    avg_by_window = (\n",
    "        data.groupby(\"Booking_Window\")[\"price\"]\n",
    "        .mean()\n",
    "        .reset_index()\n",
    "        .sort_values(\"price\", ascending = False)\n",
    "    )\n",
    "    print(\"\\nAverage price by booking window:\")\n",
    "    display(avg_by_window)\n"
   ]
  },
  {
   "cell_type": "markdown",
   "id": "501954d0-4f84-4567-89ed-2a1215499c9f",
   "metadata": {},
   "source": [
    "0–3 days before travel: ₹28,069 → Highest prices because last-minute bookings are usually premium.\n",
    "\n",
    "4–7 days: ₹25,698 and 8–14 days: ₹23,768 → Prices start dropping as the booking window widens.\n",
    "\n",
    "15–30 days: ₹19,889 and 31–60 days: ₹19,261 → Cheapest period for ticket purchases; airlines reward early planners with lower fares.\n",
    "\n",
    "61+ days: NaN → No data available, possibly due to very few bookings this far in advance in your dataset.\n",
    "\n",
    "Key takeaway:\n",
    "Booking 3–8 weeks before travel seems to give the best balance between price and availability."
   ]
  },
  {
   "cell_type": "markdown",
   "id": "b5cd16fe-4a7d-4b70-a5e7-c42748682420",
   "metadata": {},
   "source": [
    "7. VISUALIZATIONS"
   ]
  },
  {
   "cell_type": "code",
   "execution_count": 42,
   "id": "84254432-7b4d-4ecc-89b8-7fd726997e0d",
   "metadata": {},
   "outputs": [
    {
     "data": {
      "image/png": "[encoded data removed]",
      "text/plain": [
       "<Figure size 640x480 with 1 Axes>"
      ]
     },
     "metadata": {},
     "output_type": "display_data"
    }
   ],
   "source": [
    "import matplotlib.pyplot as plt\n",
    "# Bar: Flights per airline\n",
    "counts =data[\"airline\"].value_counts()\n",
    "plt.figure()\n",
    "counts.plot(kind=\"bar\")\n",
    "plt.title(\"Flight per Airline\")\n",
    "plt.xlabel(\"Airline\")\n",
    "plt.ylabel(\"Count of Flights\")\n",
    "plt.xticks(rotation = 45, ha = \"right\")\n",
    "plt.tight_layout()\n",
    "plt.show()\n"
   ]
  },
  {
   "cell_type": "markdown",
   "id": "9fcfccff-f277-4dda-b792-0b56bd7beaf2",
   "metadata": {},
   "source": [
    "Vistara dominates with the highest number of flights,over 125,000, showing strong market presence.\n",
    "\n",
    "Air India follows at around 80,000 flights, while Indigo sits in third place with roughly 43,000 flights.\n",
    "\n",
    "GO_FIRST, AirAsia, and SpiceJet have much smaller flight volumes, with SpiceJet having the least at under 10,000 flights.\n",
    "\n",
    "Key Insight: The market is heavily concentrated at the top, with Vistara and Air India handling the majority of flights, while smaller carriers have limited reach."
   ]
  },
  {
   "cell_type": "code",
   "execution_count": 43,
   "id": "7ffb2169-82a2-4cd4-a8b6-ca84ef3a9297",
   "metadata": {},
   "outputs": [
    {
     "data": {
      "image/png": "[encoded data removed]",
      "text/plain": [
       "<Figure size 800x500 with 1 Axes>"
      ]
     },
     "metadata": {},
     "output_type": "display_data"
    }
   ],
   "source": [
    "# Line: Average Price vs Days_Left\n",
    "if \"days_left\" in data.columns:\n",
    "    avg_by_daysleft = data.groupby(\"days_left\")[\"price\"].mean().sort_index()\n",
    "\n",
    "    if not avg_by_daysleft.empty:\n",
    "        plt.figure(figsize=(8, 5))\n",
    "        plt.plot(avg_by_daysleft.index, avg_by_daysleft.values, marker='o')\n",
    "        plt.title(\"Average Ticket Price vs Days_Left\")\n",
    "        plt.xlabel(\"Days Left Before Departure\")\n",
    "        plt.ylabel(\"Average Price\")\n",
    "        plt.grid(True)\n",
    "        plt.tight_layout()\n",
    "        plt.show()\n",
    "    else:\n",
    "        print(\"No data available after grouping by 'days_Left'.\")\n"
   ]
  },
  {
   "cell_type": "markdown",
   "id": "db2b0c23-0b95-462c-8c31-5f85856520c6",
   "metadata": {},
   "source": [
    "Prices spike sharply when there are 1–3 days left before departure, peaking above ₹30,000 for last-minute bookings.\n",
    "\n",
    "As the days left increase, prices drop steadily, especially after 10–15 days, where fares stabilize around ₹19,000–20,000.\n",
    "\n",
    "Beyond 20 days, prices remain relatively flat with small fluctuations, showing early booking benefits flatten out after a point.\n",
    "\n",
    "Key takeaway: Booking well in advance ideally 3+ weeks before departure gives the best chance of lower ticket prices."
   ]
  },
  {
   "cell_type": "code",
   "execution_count": 34,
   "id": "761bf8c9-e405-463c-b466-71d59eee52e8",
   "metadata": {},
   "outputs": [
    {
     "data": {
      "image/png": "[encoded data removed]",
      "text/plain": [
       "<Figure size 640x480 with 1 Axes>"
      ]
     },
     "metadata": {},
     "output_type": "display_data"
    }
   ],
   "source": [
    "# Scatter: Duration vs Price\n",
    "if {\"duration\", \"price\"}.issubset(data.columns):\n",
    "    plt.figure()\n",
    "    plt.scatter(data[\"duration\"], data[\"price\"], alpha=0.4)\n",
    "    plt.title(\"Duration vs Price\")\n",
    "    plt.xlabel(\"Duration (hours)\")\n",
    "    plt.ylabel(\"Price\")\n",
    "    plt.tight_layout()\n",
    "    plt.show()\n"
   ]
  },
  {
   "cell_type": "markdown",
   "id": "a469e050-57d8-4a78-9ff0-9deada4f491e",
   "metadata": {},
   "source": [
    "The plot shows that while longer flight durations generally cost more, the relationship is weak and scattered, not strictly linear.\n",
    "\n",
    "Most flights fall within 0–15 hours duration and ₹0–60,000 price, indicating this is the typical range for the dataset.\n",
    "\n",
    "A few outliers appear with extremely long durations (30–50 hours) and high prices (above ₹80,000), likely representing multi-stop or irregular routes.\n",
    "\n",
    "The clustering patterns suggest airlines use pricing tiers or fare buckets, rather than pricing solely based on flight length.\n",
    "\n",
    "Conclusion: Flight duration has some influence on price, but other factors like stops, routes, and airline pricing strategies play a larger role."
   ]
  },
  {
   "cell_type": "code",
   "execution_count": 35,
   "id": "3baf1492-b517-4dd6-b01b-1c9227360ac1",
   "metadata": {},
   "outputs": [
    {
     "data": {
      "image/png": "[encoded data removed]",
      "text/plain": [
       "<Figure size 640x480 with 1 Axes>"
      ]
     },
     "metadata": {},
     "output_type": "display_data"
    }
   ],
   "source": [
    "# Bar: Avg Price by Stops\n",
    "if \"stops\" in data.columns:\n",
    "    price_by_stops = data.groupby(\"stops\")[\"price\"].mean().sort_values(ascending=True)\n",
    "    plt.figure()\n",
    "    price_by_stops.plot(kind=\"bar\")\n",
    "    plt.title(\"Average Price by Stops\")\n",
    "    plt.xlabel(\"Stops\")\n",
    "    plt.ylabel(\"Average Price\")\n",
    "    plt.tight_layout()\n",
    "    plt.show()\n"
   ]
  },
  {
   "cell_type": "markdown",
   "id": "2d8bffbe-a899-418a-a93f-0cc474d46ec7",
   "metadata": {},
   "source": [
    "Flights with zero stops (direct flights) are the cheapest on average, around ₹9,500.\n",
    "\n",
    "Flights with two or more stops have a higher average price, about ₹14,000, suggesting longer or more complex itineraries add to costs.\n",
    "\n",
    "Interestingly, flights with one stop are the most expensive, averaging above ₹22,000 — higher than even two-stop flights.\n",
    "\n",
    "Conclusion: Stopovers don’t always reduce costs. While direct flights are cheapest, one-stop flights are the costliest, likely reflecting airline route strategies, demand for popular hubs, and fewer cheaper fare options compared to multi-stop itineraries."
   ]
  },
  {
   "cell_type": "code",
   "execution_count": 36,
   "id": "5945dc61-0a02-4641-8374-713b6c27153c",
   "metadata": {},
   "outputs": [
    {
     "data": {
      "image/png": "[encoded data removed]",
      "text/plain": [
       "<Figure size 640x480 with 1 Axes>"
      ]
     },
     "metadata": {},
     "output_type": "display_data"
    }
   ],
   "source": [
    "# Bar: Avg Price by Class\n",
    "if \"class\" in data.columns:\n",
    "    price_by_class = data.groupby(\"class\")[\"price\"].mean().sort_values(ascending=False)\n",
    "    plt.figure()\n",
    "    price_by_class.plot(kind=\"bar\")\n",
    "    plt.title(\"Average Price by Class\")\n",
    "    plt.xlabel(\"Class\")\n",
    "    plt.ylabel(\"Average Price\")\n",
    "    plt.tight_layout()\n",
    "    plt.show()\n"
   ]
  },
  {
   "cell_type": "markdown",
   "id": "65f840be-60fe-4db1-a570-ebdc3dc79ef1",
   "metadata": {},
   "source": [
    "Business class flights are significantly more expensive, averaging above ₹52,000.\n",
    "\n",
    "Economy class flights are far cheaper, with an average price of around ₹6,500.\n",
    "\n",
    "This indicates a sharp price gap between the two classes, with business fares being nearly 8 times higher than economy.\n",
    "\n",
    "Conclusion: Ticket class is a major determinant of price, with business travelers paying a heavy premium for comfort and exclusivity, while economy remains the budget-friendly choice."
   ]
  },
  {
   "cell_type": "code",
   "execution_count": 37,
   "id": "77b9d316-79fd-4cd1-9b34-438a7d439976",
   "metadata": {},
   "outputs": [
    {
     "data": {
      "image/png": "[encoded data removed]",
      "text/plain": [
       "<Figure size 800x600 with 2 Axes>"
      ]
     },
     "metadata": {},
     "output_type": "display_data"
    }
   ],
   "source": [
    "# Heatmap: Source vs Destination (counts)\n",
    "if {\"source_city\", \"destination_city\"}.issubset(data.columns):\n",
    "    pivot_counts = pd.pivot_table(\n",
    "        data,\n",
    "        index=\"source_city\",\n",
    "        columns=\"destination_city\",\n",
    "        aggfunc=\"size\",  \n",
    "        fill_value=0\n",
    "    )\n",
    "    plt.figure(figsize=(8, 6))\n",
    "    plt.imshow(pivot_counts.values, aspect=\"auto\", cmap=\"Blues\")\n",
    "    plt.colorbar(label=\"Flight Counts\")\n",
    "    plt.xticks(range(len(pivot_counts.columns)), pivot_counts.columns, rotation=45)\n",
    "    plt.yticks(range(len(pivot_counts.index)), pivot_counts.index)\n",
    "    plt.title(\"Flights: Source vs Destination\")\n",
    "    plt.tight_layout()\n",
    "    plt.show()\n"
   ]
  },
  {
   "cell_type": "markdown",
   "id": "0abb1c6c-8563-40cf-8e74-22ab40267f8f",
   "metadata": {},
   "source": [
    "The darkest blue cells represent the highest flight counts between source and destination cities.\n",
    "\n",
    "Delhi ↔ Mumbai and Delhi ↔ Bangalore stand out as the busiest routes since they have the deepest color intensity, confirming earlier results.\n",
    "\n",
    "Hyderabad and Kolkata show moderate connectivity, with mid-level counts to most other cities.\n",
    "\n",
    "Chennai has lighter shades with most cities, suggesting fewer flights compared to Delhi, Mumbai, and Bangalore.\n",
    "\n",
    "The diagonal is white because a city cannot be a source and destination at the same time in this dataset.\n",
    "\n",
    "Conclusion: Delhi, Mumbai, and Bangalore dominate India’s flight network, while other cities play more secondary roles in connectivity."
   ]
  },
  {
   "cell_type": "markdown",
   "id": "5ecabd86-7326-4757-8f9d-3a2a37482e68",
   "metadata": {},
   "source": [
    "8. KPI SNAPSHOT"
   ]
  },
  {
   "cell_type": "code",
   "execution_count": 38,
   "id": "a6f6879b-dda8-4702-92a9-fca04d2ec387",
   "metadata": {},
   "outputs": [
    {
     "name": "stdout",
     "output_type": "stream",
     "text": [
      "Total Flights: 300153\n",
      "Average Price: 20889.66\n",
      "Average Duration (hrs): 12.22\n",
      "% Non-stop: 12.0\n"
     ]
    }
   ],
   "source": [
    "kpis = {}\n",
    "kpis[\"Total Flights\"] = len(data)\n",
    "kpis[\"Average Price\"] = round(data[\"price\"].mean(), 2)\n",
    "kpis[\"Average Duration (hrs)\"] = round(data[\"duration\"].mean(), 2)\n",
    "if \"NonStop_Flag\" in data.columns:\n",
    "    kpis[\"% Non-stop\"] = round(100 * data[\"NonStop_Flag\"].mean(), 2)\n",
    "    for k,v in kpis.items():\n",
    "        print(f\"{k}: {v}\")\n"
   ]
  },
  {
   "cell_type": "markdown",
   "id": "81467c53-ceff-4954-a92f-af966d726dd7",
   "metadata": {},
   "source": [
    "9. EXPORT CLEAN DATA AND SUMMARY TABLES"
   ]
  },
  {
   "cell_type": "code",
   "execution_count": 39,
   "id": "f7ef0a6d-1c2c-4d6a-a26b-096372300e84",
   "metadata": {},
   "outputs": [],
   "source": [
    "data.to_csv(\"airline_clean.csv\",index=False)"
   ]
  },
  {
   "cell_type": "code",
   "execution_count": 40,
   "id": "ec3982b9-432a-4922-861b-8d445ace57dc",
   "metadata": {},
   "outputs": [
    {
     "name": "stdout",
     "output_type": "stream",
     "text": [
      "Files exported to: CLOUD TECH INTERNSHIP\n"
     ]
    },
    {
     "name": "stderr",
     "output_type": "stream",
     "text": [
      "C:\\Users\\USER\\AppData\\Local\\Temp\\ipykernel_4356\\365665929.py:14: FutureWarning: The default of observed=False is deprecated and will be changed to True in a future version of pandas. Pass observed=False to retain current behavior or observed=True to adopt the future default and silence this warning.\n",
      "  data.groupby(\"Booking_Window\")[\"price\"].mean().to_frame(\"avg_price\").to_csv(\"avg_price_by_window.csv\")\n"
     ]
    }
   ],
   "source": [
    "#Export handy summary tables\n",
    "\n",
    "data[\"airline\"].value_counts().to_frame(\"count\").to_csv(\"flights_per_airline.csv\")\n",
    "if \"route\" in data.columns:\n",
    "    data[\"route\"].value_counts().to_frame(\"count\").head(50).to_csv(\"top_routes.csv\")\n",
    "    data.groupby(\"airline\")[\"price\"].mean().to_frame(\"avg_price\").to_csv(\"avg_price_by_airline.csv\")\n",
    "if \"class\" in data.columns:\n",
    "    data.groupby(\"class\")[\"price\"].mean().to_frame(\"avg_price\").to_csv(\"avg_price_by_class.csv\")\n",
    "if \"stops\" in data.columns:\n",
    "    data.groupby(\"stops\")[\"price\"].mean().to_frame(\"avg_price\").to_csv(\"avg_price_by_stops.csv\")\n",
    "if \"days_left\" in data.columns:\n",
    "    data.groupby(\"days_left\")[\"price\"].mean().to_frame(\"avg_price\").to_csv(\"avg_price_by_daysleft.csv\")\n",
    "if \"Booking_Window\" in data.columns:\n",
    "    data.groupby(\"Booking_Window\")[\"price\"].mean().to_frame(\"avg_price\").to_csv(\"avg_price_by_window.csv\")\n",
    "\n",
    "print(\"Files exported to:\",\"CLOUD TECH INTERNSHIP\")\n"
   ]
  }
 ],
 "metadata": {
  "kernelspec": {
   "display_name": "Python 3 (ipykernel)",
   "language": "python",
   "name": "python3"
  },
  "language_info": {
   "codemirror_mode": {
    "name": "ipython",
    "version": 3
   },
   "file_extension": ".py",
   "mimetype": "text/x-python",
   "name": "python",
   "nbconvert_exporter": "python",
   "pygments_lexer": "ipython3",
   "version": "3.12.7"
  }
 },
 "nbformat": 4,
 "nbformat_minor": 5
}
